{
 "cells": [
  {
   "cell_type": "code",
   "execution_count": 1,
   "metadata": {
    "id": "SYQt7yHwQck3"
   },
   "outputs": [],
   "source": [
    "import pandas as pd\n",
    "import matplotlib.pyplot as plt\n",
    "import numpy as np\n",
    "import seaborn as sns\n",
    "from sklearn.preprocessing import LabelEncoder\n",
    "from sklearn.ensemble import RandomForestClassifier\n",
    "from sklearn.model_selection import train_test_split\n",
    "from datetime import datetime\n",
    "from sklearn.metrics import confusion_matrix,accuracy_score\n",
    "from imblearn.over_sampling import SMOTE\n",
    "import pickle"
   ]
  },
  {
   "cell_type": "code",
   "execution_count": 2,
   "metadata": {
    "colab": {
     "base_uri": "https://localhost:8080/"
    },
    "id": "eTsSxSKZQhFG",
    "outputId": "2cad96fd-61c3-459c-d4ca-fa4a239bb8af"
   },
   "outputs": [
    {
     "name": "stdout",
     "output_type": "stream",
     "text": [
      "Class percentage before Over_Sampling:\n",
      "0    80.3\n",
      "1    19.7\n",
      "Name: fraud, dtype: float64\n"
     ]
    }
   ],
   "source": [
    "data = pd.read_csv('medical_aid_claims.csv')\n",
    "class_counts = data['fraud'].value_counts()\n",
    "class_percentage = class_counts / len(data) * 100\n",
    "print(\"Class percentage before Over_Sampling:\")\n",
    "print(class_percentage)"
   ]
  },
  {
   "cell_type": "code",
   "execution_count": 3,
   "metadata": {
    "colab": {
     "base_uri": "https://localhost:8080/",
     "height": 374
    },
    "id": "FIzsMJBhCB2U",
    "outputId": "48732710-dcd2-408e-d7e1-3fa372d5b17d"
   },
   "outputs": [
    {
     "data": {
      "text/html": [
       "<div>\n",
       "<style scoped>\n",
       "    .dataframe tbody tr th:only-of-type {\n",
       "        vertical-align: middle;\n",
       "    }\n",
       "\n",
       "    .dataframe tbody tr th {\n",
       "        vertical-align: top;\n",
       "    }\n",
       "\n",
       "    .dataframe thead th {\n",
       "        text-align: right;\n",
       "    }\n",
       "</style>\n",
       "<table border=\"1\" class=\"dataframe\">\n",
       "  <thead>\n",
       "    <tr style=\"text-align: right;\">\n",
       "      <th></th>\n",
       "      <th>member-name</th>\n",
       "      <th>email</th>\n",
       "      <th>gender</th>\n",
       "      <th>location</th>\n",
       "      <th>employer</th>\n",
       "      <th>relationship</th>\n",
       "      <th>patient_name</th>\n",
       "      <th>patient_suffix</th>\n",
       "      <th>patient_dob</th>\n",
       "      <th>cause</th>\n",
       "      <th>Fee Charged</th>\n",
       "      <th>membership_period</th>\n",
       "      <th>number_of_claims</th>\n",
       "      <th>number_of_dependants</th>\n",
       "      <th>fraud</th>\n",
       "    </tr>\n",
       "  </thead>\n",
       "  <tbody>\n",
       "    <tr>\n",
       "      <th>0</th>\n",
       "      <td>Chipi</td>\n",
       "      <td>ajimmison0@sun.com</td>\n",
       "      <td>female</td>\n",
       "      <td>Kwekwe</td>\n",
       "      <td>Vipe</td>\n",
       "      <td>Grandfather</td>\n",
       "      <td>Mabhena</td>\n",
       "      <td>789</td>\n",
       "      <td>09-11-1997</td>\n",
       "      <td>Other</td>\n",
       "      <td>3798</td>\n",
       "      <td>1541</td>\n",
       "      <td>2</td>\n",
       "      <td>4</td>\n",
       "      <td>0</td>\n",
       "    </tr>\n",
       "    <tr>\n",
       "      <th>1</th>\n",
       "      <td>Femba</td>\n",
       "      <td>rsoonhouse1@google.it</td>\n",
       "      <td>female</td>\n",
       "      <td>Marondera</td>\n",
       "      <td>Mudo</td>\n",
       "      <td>Husband</td>\n",
       "      <td>Sithole</td>\n",
       "      <td>860</td>\n",
       "      <td>1-14-1992</td>\n",
       "      <td>Other</td>\n",
       "      <td>48905</td>\n",
       "      <td>8269</td>\n",
       "      <td>4</td>\n",
       "      <td>3</td>\n",
       "      <td>0</td>\n",
       "    </tr>\n",
       "    <tr>\n",
       "      <th>2</th>\n",
       "      <td>Geta</td>\n",
       "      <td>bchecchetelli2@house.gov</td>\n",
       "      <td>female</td>\n",
       "      <td>Rusape</td>\n",
       "      <td>Skaboo</td>\n",
       "      <td>Mother</td>\n",
       "      <td>Chipi</td>\n",
       "      <td>374</td>\n",
       "      <td>07-03-1999</td>\n",
       "      <td>Road Traffic Accident</td>\n",
       "      <td>39963</td>\n",
       "      <td>6223</td>\n",
       "      <td>2</td>\n",
       "      <td>2</td>\n",
       "      <td>0</td>\n",
       "    </tr>\n",
       "    <tr>\n",
       "      <th>3</th>\n",
       "      <td>Tichaona</td>\n",
       "      <td>mgarman3@psu.edu</td>\n",
       "      <td>female</td>\n",
       "      <td>Rusape</td>\n",
       "      <td>Babbleset</td>\n",
       "      <td>Father</td>\n",
       "      <td>Jembwa</td>\n",
       "      <td>729</td>\n",
       "      <td>7-31-1978</td>\n",
       "      <td>Road Traffic Accident</td>\n",
       "      <td>34948</td>\n",
       "      <td>8832</td>\n",
       "      <td>6</td>\n",
       "      <td>3</td>\n",
       "      <td>0</td>\n",
       "    </tr>\n",
       "    <tr>\n",
       "      <th>4</th>\n",
       "      <td>Chisa</td>\n",
       "      <td>ccough4@biglobe.ne.jp</td>\n",
       "      <td>female</td>\n",
       "      <td>Bulawayo</td>\n",
       "      <td>Flipopia</td>\n",
       "      <td>Father</td>\n",
       "      <td>Foto</td>\n",
       "      <td>716</td>\n",
       "      <td>12-28-1992</td>\n",
       "      <td>Accident At Work</td>\n",
       "      <td>46984</td>\n",
       "      <td>8804</td>\n",
       "      <td>1</td>\n",
       "      <td>2</td>\n",
       "      <td>1</td>\n",
       "    </tr>\n",
       "  </tbody>\n",
       "</table>\n",
       "</div>"
      ],
      "text/plain": [
       "  member-name                     email  gender   location   employer  \\\n",
       "0       Chipi        ajimmison0@sun.com  female     Kwekwe       Vipe   \n",
       "1       Femba     rsoonhouse1@google.it  female  Marondera       Mudo   \n",
       "2        Geta  bchecchetelli2@house.gov  female     Rusape     Skaboo   \n",
       "3    Tichaona          mgarman3@psu.edu  female     Rusape  Babbleset   \n",
       "4       Chisa     ccough4@biglobe.ne.jp  female   Bulawayo   Flipopia   \n",
       "\n",
       "  relationship patient_name  patient_suffix patient_dob  \\\n",
       "0  Grandfather      Mabhena             789  09-11-1997   \n",
       "1      Husband      Sithole             860   1-14-1992   \n",
       "2       Mother        Chipi             374  07-03-1999   \n",
       "3       Father       Jembwa             729   7-31-1978   \n",
       "4       Father         Foto             716  12-28-1992   \n",
       "\n",
       "                   cause  Fee Charged  membership_period  number_of_claims  \\\n",
       "0                  Other         3798               1541                 2   \n",
       "1                  Other        48905               8269                 4   \n",
       "2  Road Traffic Accident        39963               6223                 2   \n",
       "3  Road Traffic Accident        34948               8832                 6   \n",
       "4       Accident At Work        46984               8804                 1   \n",
       "\n",
       "   number_of_dependants  fraud  \n",
       "0                     4      0  \n",
       "1                     3      0  \n",
       "2                     2      0  \n",
       "3                     3      0  \n",
       "4                     2      1  "
      ]
     },
     "execution_count": 3,
     "metadata": {},
     "output_type": "execute_result"
    }
   ],
   "source": [
    "data.head()"
   ]
  },
  {
   "cell_type": "code",
   "execution_count": 4,
   "metadata": {
    "id": "lRrIsq8kk95C"
   },
   "outputs": [],
   "source": [
    "y = data['fraud']\n",
    "data = data.drop(['email','fraud'],axis=1)\n",
    "\n",
    "data['gender'] = data['gender'].apply(lambda x: 0 if x=='male' else 1)\n",
    "locations = list(data['location'].unique())\n",
    "data['location'] = data['location'].apply(lambda x: locations.index(x))\n",
    "employers = list(data['employer'].unique())\n",
    "data['employer'] = data['employer'].apply(lambda x: employers.index(x))\n",
    "relationships = list(data['relationship'].unique())\n",
    "data['relationship'] = data['relationship'].apply(lambda x: relationships.index(x))\n",
    "causes = list(data['cause'].unique())\n",
    "data['cause'] = data['cause'].apply(lambda x: causes.index(x))\n",
    "data['patient_age'] = (datetime.now().date() - pd.to_datetime(data['patient_dob'], format='%m-%d-%Y').dt.date).dt.days // 365.25\n",
    "data['patient_age'] = data['patient_age'].astype(int)"
   ]
  },
  {
   "cell_type": "code",
   "execution_count": 5,
   "metadata": {
    "colab": {
     "base_uri": "https://localhost:8080/"
    },
    "id": "Trg923f_lHDX",
    "outputId": "5e3affbd-1485-4700-b3fa-cea1de4a8b46"
   },
   "outputs": [
    {
     "name": "stdout",
     "output_type": "stream",
     "text": [
      "0    5621\n",
      "1    5621\n",
      "Name: fraud, dtype: int64\n",
      "Class percentage after Over_Sampling:\n",
      "0    80.3\n",
      "1    80.3\n",
      "Name: fraud, dtype: float64\n"
     ]
    }
   ],
   "source": [
    "data = data.drop(['patient_dob','patient_name','member-name'],axis=1)\n",
    "\n",
    "\n",
    "X= data.iloc[:]\n",
    "\n",
    "smote = SMOTE(sampling_strategy='minority', random_state=42)\n",
    "X_resampled, y_resampled = smote.fit_resample(X, y)\n",
    "\n",
    "class_counts = y_resampled.value_counts()\n",
    "print(class_counts)\n",
    "class_percentage = class_counts / len(data) * 100\n",
    "print(\"Class percentage after Over_Sampling:\")\n",
    "print(class_percentage)"
   ]
  },
  {
   "cell_type": "code",
   "execution_count": 6,
   "metadata": {
    "colab": {
     "base_uri": "https://localhost:8080/"
    },
    "id": "EFRjmLDblRm9",
    "outputId": "fec7c4c2-87fd-4f37-e33b-e0312e27370e"
   },
   "outputs": [
    {
     "data": {
      "text/plain": [
       "[[1, 0, 0, 0, 789, 0, 3798, 1541, 2, 4, 25],\n",
       " [1, 1, 1, 1, 860, 0, 48905, 8269, 4, 3, 31],\n",
       " [1, 2, 2, 2, 374, 1, 39963, 6223, 2, 2, 23],\n",
       " [1, 2, 3, 3, 729, 1, 34948, 8832, 6, 3, 44],\n",
       " [1, 3, 4, 3, 716, 2, 46984, 8804, 1, 2, 30],\n",
       " [1, 0, 5, 4, 160, 0, 37298, 2445, 2, 4, 48],\n",
       " [0, 2, 6, 5, 626, 1, 33981, 3715, 4, 1, 21],\n",
       " [0, 4, 7, 6, 318, 0, 5071, 541, 1, 3, 50],\n",
       " [0, 5, 8, 7, 715, 0, 22943, 8690, 5, 2, 20],\n",
       " [0, 6, 9, 2, 887, 2, 27104, 6680, 2, 3, 39]]"
      ]
     },
     "execution_count": 6,
     "metadata": {},
     "output_type": "execute_result"
    }
   ],
   "source": [
    "x = X_resampled.iloc[:10]\n",
    "x = x.values.tolist()\n",
    "x"
   ]
  },
  {
   "cell_type": "code",
   "execution_count": null,
   "metadata": {
    "id": "bEKwIo8DlW_b"
   },
   "outputs": [],
   "source": []
  },
  {
   "cell_type": "code",
   "execution_count": 7,
   "metadata": {
    "id": "AS9lETWylao6"
   },
   "outputs": [],
   "source": [
    "from sklearn.preprocessing import StandardScaler    \n",
    "st_x= StandardScaler()    \n",
    "X_resampled= st_x.fit_transform(X_resampled)    "
   ]
  },
  {
   "cell_type": "code",
   "execution_count": 8,
   "metadata": {
    "colab": {
     "base_uri": "https://localhost:8080/"
    },
    "id": "p2TCIrQLG9gD",
    "outputId": "e1003c8c-7c49-4873-bde0-8c9a98efec9d"
   },
   "outputs": [],
   "source": [
    "# X_resampled.columns"
   ]
  },
  {
   "cell_type": "code",
   "execution_count": 9,
   "metadata": {
    "colab": {
     "base_uri": "https://localhost:8080/"
    },
    "id": "cb-AXWNBABoy",
    "outputId": "0e0a206a-60ea-4c46-f2b6-cb962661bcd7"
   },
   "outputs": [
    {
     "data": {
      "text/plain": [
       "(11242, 11)"
      ]
     },
     "execution_count": 9,
     "metadata": {},
     "output_type": "execute_result"
    }
   ],
   "source": [
    "X_resampled.shape"
   ]
  },
  {
   "cell_type": "code",
   "execution_count": 10,
   "metadata": {
    "colab": {
     "base_uri": "https://localhost:8080/",
     "height": 585
    },
    "id": "cKCRnedEl2n1",
    "outputId": "792462b9-c6b3-4144-fbf3-d58371dfb1e3"
   },
   "outputs": [
    {
     "data": {
      "image/png": "[encoded data removed]",
      "text/plain": [
       "<Figure size 640x480 with 2 Axes>"
      ]
     },
     "metadata": {},
     "output_type": "display_data"
    }
   ],
   "source": [
    "import seaborn as sns\n",
    "import matplotlib.pyplot as plt\n",
    "\n",
    "# Load the data and compute the correlation matrix\n",
    "corr_matrix = data.corr()\n",
    "\n",
    "# Create a heatmap\n",
    "ax = sns.heatmap(corr_matrix, annot=True, cmap=\"YlGnBu\",\n",
    "                 annot_kws={'fontsize': 6})\n",
    "\n",
    "# Set the font size of the x and y tick labels\n",
    "ax.tick_params(axis='both', which='major', labelsize=10)\n",
    "\n",
    "# Show the plot\n",
    "plt.show()"
   ]
  },
  {
   "cell_type": "code",
   "execution_count": 11,
   "metadata": {
    "id": "rcWipLLul4fF"
   },
   "outputs": [],
   "source": [
    "from sklearn.decomposition import PCA\n",
    "pca = PCA(n_components=6)\n",
    "\n",
    "pct = pca.fit_transform(X_resampled)\n"
   ]
  },
  {
   "cell_type": "code",
   "execution_count": 12,
   "metadata": {
    "colab": {
     "base_uri": "https://localhost:8080/"
    },
    "id": "azZ-MhC7AHXa",
    "outputId": "863d776e-5f6e-42fb-8a21-3c8c8c2c717b"
   },
   "outputs": [
    {
     "data": {
      "text/plain": [
       "11242"
      ]
     },
     "execution_count": 12,
     "metadata": {},
     "output_type": "execute_result"
    }
   ],
   "source": [
    "len(pct)"
   ]
  },
  {
   "cell_type": "code",
   "execution_count": 13,
   "metadata": {
    "colab": {
     "base_uri": "https://localhost:8080/",
     "height": 894
    },
    "id": "8DOhYPFSl7H1",
    "outputId": "4d7be5ae-aac8-4ed1-8107-984f1217bc4f"
   },
   "outputs": [
    {
     "name": "stdout",
     "output_type": "stream",
     "text": [
      "Eigenvalues\n",
      "[1.13089833 1.06760487 1.05160943 1.02809523 1.00297067 0.99941637]\n",
      "\n",
      "eigen vectors\n",
      "[[ 0.56546303  0.33248459  0.09018727  0.0572593  -0.0606192   0.46605195\n",
      "  -0.08885342 -0.07550646  0.2368009   0.51624392  0.03514931]\n",
      " [-0.20287697  0.38586694  0.17950887 -0.13188195 -0.53164906 -0.05839562\n",
      "   0.45391181  0.28382253 -0.08527753  0.13346978 -0.40322821]\n",
      " [ 0.10995038  0.02762931  0.67283995  0.07777932  0.28247331  0.0066397\n",
      "  -0.22276398  0.5772858   0.09269029 -0.22901667 -0.06801656]\n",
      " [ 0.13231827 -0.05722707 -0.17151796  0.42834947  0.16990149 -0.35001167\n",
      "   0.18304468 -0.04382077  0.60179904 -0.00890366 -0.46612617]\n",
      " [ 0.07671697  0.09507803  0.02687382 -0.69830055 -0.1891552  -0.24454466\n",
      "  -0.40207229 -0.15797161  0.41992046 -0.15037674 -0.12483398]\n",
      " [ 0.21313312 -0.60203189 -0.31068287 -0.28760332 -0.0302082   0.3410824\n",
      "   0.07245503  0.4106341  -0.03907309  0.04287254 -0.3441043 ]]\n"
     ]
    },
    {
     "data": {
      "text/plain": [
       "Text(0.5, 1.0, 'Scree plot')"
      ]
     },
     "execution_count": 13,
     "metadata": {},
     "output_type": "execute_result"
    },
    {
     "data": {
      "image/png": "[encoded data removed]",
      "text/plain": [
       "<Figure size 640x480 with 1 Axes>"
      ]
     },
     "metadata": {},
     "output_type": "display_data"
    }
   ],
   "source": [
    "print(\"Eigenvalues\")\n",
    "print(pca.explained_variance_)\n",
    "print()\n",
    "print('eigen vectors')\n",
    "print(pca.components_)\n",
    "\n",
    "import matplotlib.pyplot as plt\n",
    "plt.style.use(\"ggplot\")\n",
    "plt.plot(pca.explained_variance_,marker='o')\n",
    "plt.xlabel(\"Eigen number\")\n",
    "plt.ylabel('Eigensize')\n",
    "plt.title(\"Scree plot\")"
   ]
  },
  {
   "cell_type": "code",
   "execution_count": 14,
   "metadata": {
    "colab": {
     "base_uri": "https://localhost:8080/"
    },
    "id": "3xNkgLiil9C9",
    "outputId": "36cd4ed9-80fe-4674-d708-f684170efcf6"
   },
   "outputs": [
    {
     "name": "stdout",
     "output_type": "stream",
     "text": [
      "       fraud\n",
      "0          0\n",
      "1          0\n",
      "2          0\n",
      "3          0\n",
      "4          1\n",
      "...      ...\n",
      "11237      1\n",
      "11238      1\n",
      "11239      1\n",
      "11240      1\n",
      "11241      1\n",
      "\n",
      "[11242 rows x 1 columns]\n"
     ]
    }
   ],
   "source": [
    "principal_x = pd.DataFrame(pct,columns=['pc1','pc2','pc3','pc4','pc5','pc6'])\n",
    "\n",
    "y=pd.DataFrame(y_resampled)\n",
    "\n",
    "print(y)\n"
   ]
  },
  {
   "cell_type": "code",
   "execution_count": 15,
   "metadata": {
    "colab": {
     "base_uri": "https://localhost:8080/",
     "height": 847
    },
    "id": "DO7xwShPl_YC",
    "outputId": "b378ee17-8ff4-4b2f-8654-fc352f2c19a1"
   },
   "outputs": [
    {
     "data": {
      "text/html": [
       "<div>\n",
       "<style scoped>\n",
       "    .dataframe tbody tr th:only-of-type {\n",
       "        vertical-align: middle;\n",
       "    }\n",
       "\n",
       "    .dataframe tbody tr th {\n",
       "        vertical-align: top;\n",
       "    }\n",
       "\n",
       "    .dataframe thead th {\n",
       "        text-align: right;\n",
       "    }\n",
       "</style>\n",
       "<table border=\"1\" class=\"dataframe\">\n",
       "  <thead>\n",
       "    <tr style=\"text-align: right;\">\n",
       "      <th></th>\n",
       "      <th>pc1</th>\n",
       "      <th>pc2</th>\n",
       "      <th>pc3</th>\n",
       "      <th>pc4</th>\n",
       "      <th>pc5</th>\n",
       "      <th>pc6</th>\n",
       "      <th>fraud</th>\n",
       "    </tr>\n",
       "  </thead>\n",
       "  <tbody>\n",
       "    <tr>\n",
       "      <th>0</th>\n",
       "      <td>0.063134</td>\n",
       "      <td>-1.810547</td>\n",
       "      <td>-1.696895</td>\n",
       "      <td>0.122485</td>\n",
       "      <td>1.542403</td>\n",
       "      <td>1.650370</td>\n",
       "      <td>0</td>\n",
       "    </tr>\n",
       "    <tr>\n",
       "      <th>1</th>\n",
       "      <td>-0.482837</td>\n",
       "      <td>-0.150773</td>\n",
       "      <td>-0.477740</td>\n",
       "      <td>1.263625</td>\n",
       "      <td>0.239637</td>\n",
       "      <td>2.404556</td>\n",
       "      <td>0</td>\n",
       "    </tr>\n",
       "    <tr>\n",
       "      <th>2</th>\n",
       "      <td>-0.489141</td>\n",
       "      <td>0.666898</td>\n",
       "      <td>-1.164469</td>\n",
       "      <td>0.193311</td>\n",
       "      <td>0.282553</td>\n",
       "      <td>2.381376</td>\n",
       "      <td>0</td>\n",
       "    </tr>\n",
       "    <tr>\n",
       "      <th>3</th>\n",
       "      <td>0.531425</td>\n",
       "      <td>-0.799004</td>\n",
       "      <td>-0.170305</td>\n",
       "      <td>1.130544</td>\n",
       "      <td>0.470898</td>\n",
       "      <td>1.982257</td>\n",
       "      <td>0</td>\n",
       "    </tr>\n",
       "    <tr>\n",
       "      <th>4</th>\n",
       "      <td>-0.256257</td>\n",
       "      <td>0.279971</td>\n",
       "      <td>-0.350657</td>\n",
       "      <td>-0.396766</td>\n",
       "      <td>-1.075881</td>\n",
       "      <td>2.656382</td>\n",
       "      <td>1</td>\n",
       "    </tr>\n",
       "    <tr>\n",
       "      <th>...</th>\n",
       "      <td>...</td>\n",
       "      <td>...</td>\n",
       "      <td>...</td>\n",
       "      <td>...</td>\n",
       "      <td>...</td>\n",
       "      <td>...</td>\n",
       "      <td>...</td>\n",
       "    </tr>\n",
       "    <tr>\n",
       "      <th>11237</th>\n",
       "      <td>-2.184156</td>\n",
       "      <td>-0.875807</td>\n",
       "      <td>-0.047173</td>\n",
       "      <td>-0.786834</td>\n",
       "      <td>1.534466</td>\n",
       "      <td>-0.181774</td>\n",
       "      <td>1</td>\n",
       "    </tr>\n",
       "    <tr>\n",
       "      <th>11238</th>\n",
       "      <td>0.897145</td>\n",
       "      <td>-0.168752</td>\n",
       "      <td>-0.359546</td>\n",
       "      <td>-0.373731</td>\n",
       "      <td>2.465450</td>\n",
       "      <td>-0.341565</td>\n",
       "      <td>1</td>\n",
       "    </tr>\n",
       "    <tr>\n",
       "      <th>11239</th>\n",
       "      <td>0.405751</td>\n",
       "      <td>1.201823</td>\n",
       "      <td>-1.198643</td>\n",
       "      <td>1.102202</td>\n",
       "      <td>-1.581569</td>\n",
       "      <td>0.875602</td>\n",
       "      <td>1</td>\n",
       "    </tr>\n",
       "    <tr>\n",
       "      <th>11240</th>\n",
       "      <td>-1.279810</td>\n",
       "      <td>2.114878</td>\n",
       "      <td>0.246958</td>\n",
       "      <td>0.168807</td>\n",
       "      <td>-0.001696</td>\n",
       "      <td>1.337551</td>\n",
       "      <td>1</td>\n",
       "    </tr>\n",
       "    <tr>\n",
       "      <th>11241</th>\n",
       "      <td>-0.821494</td>\n",
       "      <td>0.188235</td>\n",
       "      <td>-0.577474</td>\n",
       "      <td>0.615217</td>\n",
       "      <td>-1.321481</td>\n",
       "      <td>-0.209018</td>\n",
       "      <td>1</td>\n",
       "    </tr>\n",
       "  </tbody>\n",
       "</table>\n",
       "<p>11242 rows × 7 columns</p>\n",
       "</div>"
      ],
      "text/plain": [
       "            pc1       pc2       pc3       pc4       pc5       pc6  fraud\n",
       "0      0.063134 -1.810547 -1.696895  0.122485  1.542403  1.650370      0\n",
       "1     -0.482837 -0.150773 -0.477740  1.263625  0.239637  2.404556      0\n",
       "2     -0.489141  0.666898 -1.164469  0.193311  0.282553  2.381376      0\n",
       "3      0.531425 -0.799004 -0.170305  1.130544  0.470898  1.982257      0\n",
       "4     -0.256257  0.279971 -0.350657 -0.396766 -1.075881  2.656382      1\n",
       "...         ...       ...       ...       ...       ...       ...    ...\n",
       "11237 -2.184156 -0.875807 -0.047173 -0.786834  1.534466 -0.181774      1\n",
       "11238  0.897145 -0.168752 -0.359546 -0.373731  2.465450 -0.341565      1\n",
       "11239  0.405751  1.201823 -1.198643  1.102202 -1.581569  0.875602      1\n",
       "11240 -1.279810  2.114878  0.246958  0.168807 -0.001696  1.337551      1\n",
       "11241 -0.821494  0.188235 -0.577474  0.615217 -1.321481 -0.209018      1\n",
       "\n",
       "[11242 rows x 7 columns]"
      ]
     },
     "metadata": {},
     "output_type": "display_data"
    },
    {
     "name": "stdout",
     "output_type": "stream",
     "text": [
      "Index(['pc1', 'pc2', 'pc3', 'pc4', 'pc5', 'pc6', 'fraud'], dtype='object')\n"
     ]
    },
    {
     "data": {
      "text/html": [
       "<div>\n",
       "<style scoped>\n",
       "    .dataframe tbody tr th:only-of-type {\n",
       "        vertical-align: middle;\n",
       "    }\n",
       "\n",
       "    .dataframe tbody tr th {\n",
       "        vertical-align: top;\n",
       "    }\n",
       "\n",
       "    .dataframe thead th {\n",
       "        text-align: right;\n",
       "    }\n",
       "</style>\n",
       "<table border=\"1\" class=\"dataframe\">\n",
       "  <thead>\n",
       "    <tr style=\"text-align: right;\">\n",
       "      <th></th>\n",
       "      <th>pc1</th>\n",
       "      <th>pc2</th>\n",
       "      <th>pc3</th>\n",
       "      <th>pc4</th>\n",
       "      <th>pc5</th>\n",
       "      <th>pc6</th>\n",
       "      <th>fraud</th>\n",
       "    </tr>\n",
       "  </thead>\n",
       "  <tbody>\n",
       "    <tr>\n",
       "      <th>0</th>\n",
       "      <td>0.063134</td>\n",
       "      <td>-1.810547</td>\n",
       "      <td>-1.696895</td>\n",
       "      <td>0.122485</td>\n",
       "      <td>1.542403</td>\n",
       "      <td>1.650370</td>\n",
       "      <td>0</td>\n",
       "    </tr>\n",
       "    <tr>\n",
       "      <th>1</th>\n",
       "      <td>-0.482837</td>\n",
       "      <td>-0.150773</td>\n",
       "      <td>-0.477740</td>\n",
       "      <td>1.263625</td>\n",
       "      <td>0.239637</td>\n",
       "      <td>2.404556</td>\n",
       "      <td>0</td>\n",
       "    </tr>\n",
       "    <tr>\n",
       "      <th>2</th>\n",
       "      <td>-0.489141</td>\n",
       "      <td>0.666898</td>\n",
       "      <td>-1.164469</td>\n",
       "      <td>0.193311</td>\n",
       "      <td>0.282553</td>\n",
       "      <td>2.381376</td>\n",
       "      <td>0</td>\n",
       "    </tr>\n",
       "    <tr>\n",
       "      <th>3</th>\n",
       "      <td>0.531425</td>\n",
       "      <td>-0.799004</td>\n",
       "      <td>-0.170305</td>\n",
       "      <td>1.130544</td>\n",
       "      <td>0.470898</td>\n",
       "      <td>1.982257</td>\n",
       "      <td>0</td>\n",
       "    </tr>\n",
       "    <tr>\n",
       "      <th>4</th>\n",
       "      <td>-0.256257</td>\n",
       "      <td>0.279971</td>\n",
       "      <td>-0.350657</td>\n",
       "      <td>-0.396766</td>\n",
       "      <td>-1.075881</td>\n",
       "      <td>2.656382</td>\n",
       "      <td>1</td>\n",
       "    </tr>\n",
       "    <tr>\n",
       "      <th>...</th>\n",
       "      <td>...</td>\n",
       "      <td>...</td>\n",
       "      <td>...</td>\n",
       "      <td>...</td>\n",
       "      <td>...</td>\n",
       "      <td>...</td>\n",
       "      <td>...</td>\n",
       "    </tr>\n",
       "    <tr>\n",
       "      <th>11237</th>\n",
       "      <td>-2.184156</td>\n",
       "      <td>-0.875807</td>\n",
       "      <td>-0.047173</td>\n",
       "      <td>-0.786834</td>\n",
       "      <td>1.534466</td>\n",
       "      <td>-0.181774</td>\n",
       "      <td>1</td>\n",
       "    </tr>\n",
       "    <tr>\n",
       "      <th>11238</th>\n",
       "      <td>0.897145</td>\n",
       "      <td>-0.168752</td>\n",
       "      <td>-0.359546</td>\n",
       "      <td>-0.373731</td>\n",
       "      <td>2.465450</td>\n",
       "      <td>-0.341565</td>\n",
       "      <td>1</td>\n",
       "    </tr>\n",
       "    <tr>\n",
       "      <th>11239</th>\n",
       "      <td>0.405751</td>\n",
       "      <td>1.201823</td>\n",
       "      <td>-1.198643</td>\n",
       "      <td>1.102202</td>\n",
       "      <td>-1.581569</td>\n",
       "      <td>0.875602</td>\n",
       "      <td>1</td>\n",
       "    </tr>\n",
       "    <tr>\n",
       "      <th>11240</th>\n",
       "      <td>-1.279810</td>\n",
       "      <td>2.114878</td>\n",
       "      <td>0.246958</td>\n",
       "      <td>0.168807</td>\n",
       "      <td>-0.001696</td>\n",
       "      <td>1.337551</td>\n",
       "      <td>1</td>\n",
       "    </tr>\n",
       "    <tr>\n",
       "      <th>11241</th>\n",
       "      <td>-0.821494</td>\n",
       "      <td>0.188235</td>\n",
       "      <td>-0.577474</td>\n",
       "      <td>0.615217</td>\n",
       "      <td>-1.321481</td>\n",
       "      <td>-0.209018</td>\n",
       "      <td>1</td>\n",
       "    </tr>\n",
       "  </tbody>\n",
       "</table>\n",
       "<p>11242 rows × 7 columns</p>\n",
       "</div>"
      ],
      "text/plain": [
       "            pc1       pc2       pc3       pc4       pc5       pc6  fraud\n",
       "0      0.063134 -1.810547 -1.696895  0.122485  1.542403  1.650370      0\n",
       "1     -0.482837 -0.150773 -0.477740  1.263625  0.239637  2.404556      0\n",
       "2     -0.489141  0.666898 -1.164469  0.193311  0.282553  2.381376      0\n",
       "3      0.531425 -0.799004 -0.170305  1.130544  0.470898  1.982257      0\n",
       "4     -0.256257  0.279971 -0.350657 -0.396766 -1.075881  2.656382      1\n",
       "...         ...       ...       ...       ...       ...       ...    ...\n",
       "11237 -2.184156 -0.875807 -0.047173 -0.786834  1.534466 -0.181774      1\n",
       "11238  0.897145 -0.168752 -0.359546 -0.373731  2.465450 -0.341565      1\n",
       "11239  0.405751  1.201823 -1.198643  1.102202 -1.581569  0.875602      1\n",
       "11240 -1.279810  2.114878  0.246958  0.168807 -0.001696  1.337551      1\n",
       "11241 -0.821494  0.188235 -0.577474  0.615217 -1.321481 -0.209018      1\n",
       "\n",
       "[11242 rows x 7 columns]"
      ]
     },
     "execution_count": 15,
     "metadata": {},
     "output_type": "execute_result"
    }
   ],
   "source": [
    "final= pd.concat([principal_x,y],axis=1)\n",
    "display(final)\n",
    "\n",
    "final.rename(columns = {0:'target'}, inplace = True)\n",
    "\n",
    "print(final.columns)\n",
    "\n",
    "final.dropna()"
   ]
  },
  {
   "cell_type": "code",
   "execution_count": 16,
   "metadata": {
    "colab": {
     "base_uri": "https://localhost:8080/"
    },
    "id": "7vKzXh0N_qak",
    "outputId": "0b2a8318-4f38-485b-dfc2-f8591b4bea44"
   },
   "outputs": [
    {
     "data": {
      "text/plain": [
       "0    5621\n",
       "1    5621\n",
       "Name: fraud, dtype: int64"
      ]
     },
     "execution_count": 16,
     "metadata": {},
     "output_type": "execute_result"
    }
   ],
   "source": [
    "final[\"fraud\"].value_counts()"
   ]
  },
  {
   "cell_type": "code",
   "execution_count": 17,
   "metadata": {
    "id": "XvHgggL5B54F"
   },
   "outputs": [],
   "source": [
    "X = final.drop('fraud', axis=1)\n",
    "y = final['fraud']"
   ]
  },
  {
   "cell_type": "code",
   "execution_count": 18,
   "metadata": {
    "id": "mXLI5x3vAbap"
   },
   "outputs": [],
   "source": [
    "X_train, X_test, y_train, y_test = train_test_split(X, y, test_size = 0.2,random_state=0)"
   ]
  },
  {
   "cell_type": "code",
   "execution_count": 19,
   "metadata": {
    "colab": {
     "base_uri": "https://localhost:8080/"
    },
    "id": "wYQ4C4EIA6l4",
    "outputId": "097fdfb8-b021-44f5-b49d-895af6288b63",
    "scrolled": true
   },
   "outputs": [
    {
     "data": {
      "text/plain": [
       "(8993, (8993, 6))"
      ]
     },
     "execution_count": 19,
     "metadata": {},
     "output_type": "execute_result"
    }
   ],
   "source": [
    "len(X_train), X_train.shape"
   ]
  },
  {
   "cell_type": "code",
   "execution_count": 20,
   "metadata": {},
   "outputs": [
    {
     "name": "stdout",
     "output_type": "stream",
     "text": [
      "(8993, 6)\n",
      "(2249, 6)\n",
      "(8993,)\n",
      "(2249,)\n"
     ]
    }
   ],
   "source": [
    "print(X_train.shape)\n",
    "print(X_test.shape)\n",
    "print(y_train.shape)\n",
    "print(y_test.shape)"
   ]
  },
  {
   "cell_type": "code",
   "execution_count": 21,
   "metadata": {},
   "outputs": [],
   "source": [
    "pickle.dump(X_train,open('X_train.pkl', 'wb'))\n",
    "pickle.dump(y_train,open('y_train.pkl', 'wb'))\n",
    "pickle.dump(X_test,open('X_test.pkl', 'wb'))\n",
    "pickle.dump(y_test,open('y_test.pkl', 'wb'))"
   ]
  },
  {
   "cell_type": "code",
   "execution_count": 22,
   "metadata": {},
   "outputs": [
    {
     "data": {
      "text/plain": [
       "(2249, 6)"
      ]
     },
     "execution_count": 22,
     "metadata": {},
     "output_type": "execute_result"
    }
   ],
   "source": [
    "(X_test.shape)\n"
   ]
  },
  {
   "cell_type": "code",
   "execution_count": 23,
   "metadata": {
    "colab": {
     "base_uri": "https://localhost:8080/"
    },
    "id": "VUse-FrImB1d",
    "outputId": "c52b54a9-3cc9-449f-bf6f-1167ddc48faa"
   },
   "outputs": [
    {
     "name": "stdout",
     "output_type": "stream",
     "text": [
      "Random forest classifier score is :  0.681191640729213\n"
     ]
    }
   ],
   "source": [
    "from sklearn.svm import SVC\n",
    "from sklearn.metrics import classification_report, confusion_matrix\n",
    "from sklearn.model_selection import GridSearchCV\n",
    "from sklearn.metrics import roc_curve, auc\n",
    "\n",
    "\n",
    "\n",
    "RFC = RandomForestClassifier(n_estimators=50,criterion='entropy')\n",
    "RFC.fit(X_train,y_train)\n",
    "\n",
    "pickle.dump(RFC, open('rfc.pkl','wb'))\n",
    "\n",
    "\n",
    "y_pred = RFC.predict(X_test)\n",
    "# tn, fp, fn, tp = confusion_matrix(y_test, y_pred).ravel()\n",
    "cm = confusion_matrix(y_test, y_pred)\n",
    "print(\"Random forest classifier score is : \",accuracy_score(y_test,y_pred))\n",
    "# print(\"Count of true positive is:\", tp)\n",
    "# print(\"Count of true negative is:\", tn)\n",
    "# print(\"Count of false negative is:\",fn)\n",
    "# print(\"Count of false positive is:\",fp)\n",
    "\n",
    "# precision = tp / (tp + fp)\n",
    "# recall = tp / (tp + fn)\n",
    "# f1 = 2 * precision * recall / (precision + recall)\n",
    "\n",
    "# print(f\"Precision: {precision:.2f}\")\n",
    "# print(f\"Recall: {recall:.2f}\")\n",
    "# print(f\"F1 score: {f1:.2f}\")\n"
   ]
  },
  {
   "cell_type": "code",
   "execution_count": 24,
   "metadata": {
    "colab": {
     "base_uri": "https://localhost:8080/",
     "height": 633
    },
    "id": "5-W3ykoDmFvg",
    "outputId": "351bd8d6-84e3-4087-c627-9fc52ea94790"
   },
   "outputs": [
    {
     "data": {
      "image/png": "[encoded data removed]",
      "text/plain": [
       "<Figure size 640x480 with 1 Axes>"
      ]
     },
     "metadata": {},
     "output_type": "display_data"
    },
    {
     "name": "stdout",
     "output_type": "stream",
     "text": [
      "              precision    recall  f1-score   support\n",
      "\n",
      "           0       0.67      0.67      0.67      1117\n",
      "           1       0.67      0.68      0.68      1132\n",
      "\n",
      "    accuracy                           0.67      2249\n",
      "   macro avg       0.67      0.67      0.67      2249\n",
      "weighted avg       0.67      0.67      0.67      2249\n",
      "\n"
     ]
    }
   ],
   "source": [
    "model = SVC()\n",
    "model.fit(X_train,y_train)\n",
    "predictions = model.predict(X_test)\n",
    "\n",
    "# Assuming y_test and y_pred are the true and predicted labels, respectively\n",
    "fpr, tpr, thresholds = roc_curve(y_test, y_pred)\n",
    "roc_auc = auc(fpr, tpr)\n",
    "\n",
    "# Plotting the ROC curve\n",
    "plt.plot(fpr, tpr, color='darkorange', lw=2, label='ROC curve (area = %0.2f)' % roc_auc)\n",
    "plt.plot([0, 1], [0, 1], color='navy', lw=2, linestyle='--')\n",
    "plt.xlim([0.0, 1.0])\n",
    "plt.ylim([0.0, 1.05])\n",
    "plt.xlabel('False Positive Rate',fontsize=12)\n",
    "plt.ylabel('True Positive Rate',fontsize=12)\n",
    "plt.title('Receiver Operating Characteristic',fontsize=14)\n",
    "plt.legend(loc=\"lower right\",fontsize=10)\n",
    "plt.show()\n",
    "\n",
    "print(classification_report(y_test,predictions))"
   ]
  },
  {
   "cell_type": "code",
   "execution_count": 25,
   "metadata": {
    "colab": {
     "base_uri": "https://localhost:8080/"
    },
    "id": "EmJmAmunmIDp",
    "outputId": "db87523b-1c3f-49bb-bfa2-c8f10864c205"
   },
   "outputs": [
    {
     "name": "stdout",
     "output_type": "stream",
     "text": [
      "Logistic Regression classifier score is :  0.640284570920409\n"
     ]
    }
   ],
   "source": [
    "from sklearn.linear_model import LogisticRegression  \n",
    "from sklearn.svm import SVC\n",
    "from sklearn.metrics import classification_report, confusion_matrix\n",
    "from sklearn.model_selection import GridSearchCV\n",
    "from sklearn.metrics import roc_curve, auc\n",
    "\n",
    "classifier= LogisticRegression(random_state=0)  \n",
    "classifier.fit(X_train, y_train)  \n",
    "\n",
    "pickle.dump(classifier, open('lr.pkl','wb'))\n",
    "\n",
    "\n",
    "y_pred = classifier.predict(X_test)\n",
    "\n",
    "# tn, fp, fn, tp = confusion_matrix(y_test, y_pred).ravel()\n",
    "cm= confusion_matrix(y_test, y_pred)\n",
    "print(\"Logistic Regression classifier score is : \",accuracy_score(y_test,y_pred))\n",
    "# precision = tp / (tp + fp)\n",
    "# recall = tp / (tp + fn)\n",
    "# f1 = 2 * precision * recall / (precision + recall)\n",
    "\n",
    "# print(f\"Precision: {precision:.2f}\")\n",
    "# print(f\"Recall: {recall:.2f}\")\n",
    "# print(f\"F1 score: {f1:.2f}\")"
   ]
  },
  {
   "cell_type": "code",
   "execution_count": 26,
   "metadata": {
    "colab": {
     "base_uri": "https://localhost:8080/",
     "height": 633
    },
    "id": "x_cKTkjomK8L",
    "outputId": "b2af1b09-6134-4928-9327-3e669044733c"
   },
   "outputs": [
    {
     "data": {
      "image/png": "[encoded data removed]",
      "text/plain": [
       "<Figure size 640x480 with 1 Axes>"
      ]
     },
     "metadata": {},
     "output_type": "display_data"
    },
    {
     "name": "stdout",
     "output_type": "stream",
     "text": [
      "              precision    recall  f1-score   support\n",
      "\n",
      "           0       0.67      0.67      0.67      1117\n",
      "           1       0.67      0.68      0.68      1132\n",
      "\n",
      "    accuracy                           0.67      2249\n",
      "   macro avg       0.67      0.67      0.67      2249\n",
      "weighted avg       0.67      0.67      0.67      2249\n",
      "\n"
     ]
    }
   ],
   "source": [
    "model = SVC()\n",
    "model.fit(X_train,y_train)\n",
    "predictions = model.predict(X_test)\n",
    "# Assuming y_test and y_pred are the true and predicted labels, respectively\n",
    "fpr, tpr, thresholds = roc_curve(y_test, y_pred)\n",
    "roc_auc = auc(fpr, tpr)\n",
    "\n",
    "# Plotting the ROC curve\n",
    "plt.plot(fpr, tpr, color='darkorange', lw=2, label='ROC curve (area = %0.2f)' % roc_auc)\n",
    "plt.plot([0, 1], [0, 1], color='navy', lw=2, linestyle='--')\n",
    "plt.xlim([0.0, 1.0])\n",
    "plt.ylim([0.0, 1.05])\n",
    "plt.xlabel('False Positive Rate',fontsize=12)\n",
    "plt.ylabel('True Positive Rate',fontsize=12)\n",
    "plt.title('Receiver Operating Characteristic',fontsize=14)\n",
    "plt.legend(loc=\"lower right\",fontsize=10)\n",
    "plt.show()\n",
    "\n",
    "print(classification_report(y_test,predictions))\n"
   ]
  },
  {
   "cell_type": "code",
   "execution_count": null,
   "metadata": {
    "id": "gIDVzgybDIad"
   },
   "outputs": [],
   "source": []
  },
  {
   "cell_type": "code",
   "execution_count": 27,
   "metadata": {
    "colab": {
     "base_uri": "https://localhost:8080/",
     "height": 191
    },
    "id": "4NRDglPjC2wo",
    "outputId": "52771060-ac5e-4a09-9147-18e6adf930fd"
   },
   "outputs": [
    {
     "data": {
      "text/plain": [
       "\"\\nfrom sklearn.tree import DecisionTreeClassifier\\nfrom sklearn.pipeline import Pipeline\\n\\nmodels = [\\n    {\\n        'name': 'Logistic Regression',\\n        'estimator': LogisticRegression(),\\n        'hyperparameters': {\\n            'classifier__C': [0.1, 1, 10],\\n            'classifier__penalty': ['l1', 'l2']\\n        }\\n    },\\n    {\\n        'name': 'Decision Tree',\\n        'estimator': DecisionTreeClassifier(),\\n        'hyperparameters': {\\n            'classifier__max_depth': [10, 50, 100],\\n            'classifier__min_samples_split': [2, 5, 10]\\n        }\\n    },\\n    {\\n        'name': 'Random Forest',\\n        'estimator': RandomForestClassifier(),\\n        'hyperparameters': {\\n            'classifier__n_estimators': [50, 100, 200],\\n            'classifier__max_depth': [10, 50, 100],\\n            'classifier__min_samples_split': [2, 5, 10]\\n        }\\n    }\\n]\\n\\n# Perform grid search cross-validation for each model\\nfor model in models:\\n    print('Model:', model['name'])\\n    pipeline = Pipeline([\\n        ('classifier', model['estimator'])\\n    ])\\n    hyperparameters = model['hyperparameters']\\n    grid_search = GridSearchCV(pipeline, hyperparameters, cv=5)\\n    grid_search.fit(X_train, y_train)\\n    print('Best hyperparameters:', grid_search.best_params_)\\n    print('Test accuracy:', grid_search.score(X_test, y_test))\\n    \""
      ]
     },
     "execution_count": 27,
     "metadata": {},
     "output_type": "execute_result"
    }
   ],
   "source": [
    "'''\n",
    "from sklearn.tree import DecisionTreeClassifier\n",
    "from sklearn.pipeline import Pipeline\n",
    "\n",
    "models = [\n",
    "    {\n",
    "        'name': 'Logistic Regression',\n",
    "        'estimator': LogisticRegression(),\n",
    "        'hyperparameters': {\n",
    "            'classifier__C': [0.1, 1, 10],\n",
    "            'classifier__penalty': ['l1', 'l2']\n",
    "        }\n",
    "    },\n",
    "    {\n",
    "        'name': 'Decision Tree',\n",
    "        'estimator': DecisionTreeClassifier(),\n",
    "        'hyperparameters': {\n",
    "            'classifier__max_depth': [10, 50, 100],\n",
    "            'classifier__min_samples_split': [2, 5, 10]\n",
    "        }\n",
    "    },\n",
    "    {\n",
    "        'name': 'Random Forest',\n",
    "        'estimator': RandomForestClassifier(),\n",
    "        'hyperparameters': {\n",
    "            'classifier__n_estimators': [50, 100, 200],\n",
    "            'classifier__max_depth': [10, 50, 100],\n",
    "            'classifier__min_samples_split': [2, 5, 10]\n",
    "        }\n",
    "    }\n",
    "]\n",
    "\n",
    "# Perform grid search cross-validation for each model\n",
    "for model in models:\n",
    "    print('Model:', model['name'])\n",
    "    pipeline = Pipeline([\n",
    "        ('classifier', model['estimator'])\n",
    "    ])\n",
    "    hyperparameters = model['hyperparameters']\n",
    "    grid_search = GridSearchCV(pipeline, hyperparameters, cv=5)\n",
    "    grid_search.fit(X_train, y_train)\n",
    "    print('Best hyperparameters:', grid_search.best_params_)\n",
    "    print('Test accuracy:', grid_search.score(X_test, y_test))\n",
    "    '''"
   ]
  },
  {
   "cell_type": "code",
   "execution_count": null,
   "metadata": {
    "id": "M8jWaHLEC2s9"
   },
   "outputs": [],
   "source": []
  },
  {
   "cell_type": "code",
   "execution_count": 28,
   "metadata": {
    "id": "vT3-k6USC2jU"
   },
   "outputs": [],
   "source": [
    "import warnings\n",
    "warnings.filterwarnings('ignore')"
   ]
  },
  {
   "cell_type": "code",
   "execution_count": null,
   "metadata": {
    "id": "VBX1xrpfmOYp"
   },
   "outputs": [],
   "source": []
  },
  {
   "cell_type": "code",
   "execution_count": 29,
   "metadata": {
    "id": "0HkaVoP4mZu5"
   },
   "outputs": [],
   "source": [
    "new_data = [[0, 7, 362, 7, 262, 2, 7451, 1956, 2, 2, 20]]\n",
    "new_df = pd.DataFrame(data=new_data, columns=['gender', 'location', 'employer', 'relationship', 'patient_suffix',\n",
    "       'cause', 'Fee Charged', 'membership_period', 'number_of_claims',\n",
    "       'number_of_dependants', 'patient_age'])\n",
    "\n",
    "# Standardize the new data using the same scaler used for the original data\n",
    "new_data_scaled = st_x.transform(new_df)\n",
    "\n",
    "# Apply PCA to the standardized new data\n",
    "new_data_pca = pca.transform(new_data_scaled)"
   ]
  },
  {
   "cell_type": "code",
   "execution_count": 30,
   "metadata": {
    "colab": {
     "base_uri": "https://localhost:8080/"
    },
    "id": "E8Y_kvB1miKG",
    "outputId": "f948bcbf-d99d-4e07-aa17-b0571d4bc71b"
   },
   "outputs": [
    {
     "data": {
      "text/plain": [
       "0"
      ]
     },
     "execution_count": 30,
     "metadata": {},
     "output_type": "execute_result"
    }
   ],
   "source": [
    "new_pred = RFC.predict(new_data_pca)\n",
    "new_pred[0]"
   ]
  },
  {
   "cell_type": "code",
   "execution_count": 31,
   "metadata": {
    "colab": {
     "base_uri": "https://localhost:8080/",
     "height": 444
    },
    "id": "-kdKFGvHGm9R",
    "outputId": "56878a84-c68c-4b81-bed4-ac25e7c4e446"
   },
   "outputs": [
    {
     "data": {
      "text/html": [
       "<div>\n",
       "<style scoped>\n",
       "    .dataframe tbody tr th:only-of-type {\n",
       "        vertical-align: middle;\n",
       "    }\n",
       "\n",
       "    .dataframe tbody tr th {\n",
       "        vertical-align: top;\n",
       "    }\n",
       "\n",
       "    .dataframe thead th {\n",
       "        text-align: right;\n",
       "    }\n",
       "</style>\n",
       "<table border=\"1\" class=\"dataframe\">\n",
       "  <thead>\n",
       "    <tr style=\"text-align: right;\">\n",
       "      <th></th>\n",
       "      <th>gender</th>\n",
       "      <th>location</th>\n",
       "      <th>employer</th>\n",
       "      <th>relationship</th>\n",
       "      <th>patient_suffix</th>\n",
       "      <th>cause</th>\n",
       "      <th>Fee Charged</th>\n",
       "      <th>membership_period</th>\n",
       "      <th>number_of_claims</th>\n",
       "      <th>number_of_dependants</th>\n",
       "      <th>patient_age</th>\n",
       "    </tr>\n",
       "  </thead>\n",
       "  <tbody>\n",
       "    <tr>\n",
       "      <th>0</th>\n",
       "      <td>1</td>\n",
       "      <td>0</td>\n",
       "      <td>0</td>\n",
       "      <td>0</td>\n",
       "      <td>789</td>\n",
       "      <td>0</td>\n",
       "      <td>3798</td>\n",
       "      <td>1541</td>\n",
       "      <td>2</td>\n",
       "      <td>4</td>\n",
       "      <td>25</td>\n",
       "    </tr>\n",
       "    <tr>\n",
       "      <th>1</th>\n",
       "      <td>1</td>\n",
       "      <td>1</td>\n",
       "      <td>1</td>\n",
       "      <td>1</td>\n",
       "      <td>860</td>\n",
       "      <td>0</td>\n",
       "      <td>48905</td>\n",
       "      <td>8269</td>\n",
       "      <td>4</td>\n",
       "      <td>3</td>\n",
       "      <td>31</td>\n",
       "    </tr>\n",
       "    <tr>\n",
       "      <th>2</th>\n",
       "      <td>1</td>\n",
       "      <td>2</td>\n",
       "      <td>2</td>\n",
       "      <td>2</td>\n",
       "      <td>374</td>\n",
       "      <td>1</td>\n",
       "      <td>39963</td>\n",
       "      <td>6223</td>\n",
       "      <td>2</td>\n",
       "      <td>2</td>\n",
       "      <td>23</td>\n",
       "    </tr>\n",
       "    <tr>\n",
       "      <th>3</th>\n",
       "      <td>1</td>\n",
       "      <td>2</td>\n",
       "      <td>3</td>\n",
       "      <td>3</td>\n",
       "      <td>729</td>\n",
       "      <td>1</td>\n",
       "      <td>34948</td>\n",
       "      <td>8832</td>\n",
       "      <td>6</td>\n",
       "      <td>3</td>\n",
       "      <td>44</td>\n",
       "    </tr>\n",
       "    <tr>\n",
       "      <th>4</th>\n",
       "      <td>1</td>\n",
       "      <td>3</td>\n",
       "      <td>4</td>\n",
       "      <td>3</td>\n",
       "      <td>716</td>\n",
       "      <td>2</td>\n",
       "      <td>46984</td>\n",
       "      <td>8804</td>\n",
       "      <td>1</td>\n",
       "      <td>2</td>\n",
       "      <td>30</td>\n",
       "    </tr>\n",
       "    <tr>\n",
       "      <th>5</th>\n",
       "      <td>1</td>\n",
       "      <td>0</td>\n",
       "      <td>5</td>\n",
       "      <td>4</td>\n",
       "      <td>160</td>\n",
       "      <td>0</td>\n",
       "      <td>37298</td>\n",
       "      <td>2445</td>\n",
       "      <td>2</td>\n",
       "      <td>4</td>\n",
       "      <td>48</td>\n",
       "    </tr>\n",
       "    <tr>\n",
       "      <th>6</th>\n",
       "      <td>0</td>\n",
       "      <td>2</td>\n",
       "      <td>6</td>\n",
       "      <td>5</td>\n",
       "      <td>626</td>\n",
       "      <td>1</td>\n",
       "      <td>33981</td>\n",
       "      <td>3715</td>\n",
       "      <td>4</td>\n",
       "      <td>1</td>\n",
       "      <td>21</td>\n",
       "    </tr>\n",
       "    <tr>\n",
       "      <th>7</th>\n",
       "      <td>0</td>\n",
       "      <td>4</td>\n",
       "      <td>7</td>\n",
       "      <td>6</td>\n",
       "      <td>318</td>\n",
       "      <td>0</td>\n",
       "      <td>5071</td>\n",
       "      <td>541</td>\n",
       "      <td>1</td>\n",
       "      <td>3</td>\n",
       "      <td>50</td>\n",
       "    </tr>\n",
       "    <tr>\n",
       "      <th>8</th>\n",
       "      <td>0</td>\n",
       "      <td>5</td>\n",
       "      <td>8</td>\n",
       "      <td>7</td>\n",
       "      <td>715</td>\n",
       "      <td>0</td>\n",
       "      <td>22943</td>\n",
       "      <td>8690</td>\n",
       "      <td>5</td>\n",
       "      <td>2</td>\n",
       "      <td>20</td>\n",
       "    </tr>\n",
       "    <tr>\n",
       "      <th>9</th>\n",
       "      <td>0</td>\n",
       "      <td>6</td>\n",
       "      <td>9</td>\n",
       "      <td>2</td>\n",
       "      <td>887</td>\n",
       "      <td>2</td>\n",
       "      <td>27104</td>\n",
       "      <td>6680</td>\n",
       "      <td>2</td>\n",
       "      <td>3</td>\n",
       "      <td>39</td>\n",
       "    </tr>\n",
       "  </tbody>\n",
       "</table>\n",
       "</div>"
      ],
      "text/plain": [
       "   gender  location  employer  relationship  patient_suffix  cause  \\\n",
       "0       1         0         0             0             789      0   \n",
       "1       1         1         1             1             860      0   \n",
       "2       1         2         2             2             374      1   \n",
       "3       1         2         3             3             729      1   \n",
       "4       1         3         4             3             716      2   \n",
       "5       1         0         5             4             160      0   \n",
       "6       0         2         6             5             626      1   \n",
       "7       0         4         7             6             318      0   \n",
       "8       0         5         8             7             715      0   \n",
       "9       0         6         9             2             887      2   \n",
       "\n",
       "   Fee Charged  membership_period  number_of_claims  number_of_dependants  \\\n",
       "0         3798               1541                 2                     4   \n",
       "1        48905               8269                 4                     3   \n",
       "2        39963               6223                 2                     2   \n",
       "3        34948               8832                 6                     3   \n",
       "4        46984               8804                 1                     2   \n",
       "5        37298               2445                 2                     4   \n",
       "6        33981               3715                 4                     1   \n",
       "7         5071                541                 1                     3   \n",
       "8        22943               8690                 5                     2   \n",
       "9        27104               6680                 2                     3   \n",
       "\n",
       "   patient_age  \n",
       "0           25  \n",
       "1           31  \n",
       "2           23  \n",
       "3           44  \n",
       "4           30  \n",
       "5           48  \n",
       "6           21  \n",
       "7           50  \n",
       "8           20  \n",
       "9           39  "
      ]
     },
     "execution_count": 31,
     "metadata": {},
     "output_type": "execute_result"
    }
   ],
   "source": [
    "data.head(10)"
   ]
  },
  {
   "cell_type": "code",
   "execution_count": 32,
   "metadata": {
    "colab": {
     "base_uri": "https://localhost:8080/"
    },
    "id": "qIIIjdORIFCb",
    "outputId": "cafaa984-a778-4d61-977d-dbb830eb3c88"
   },
   "outputs": [
    {
     "data": {
      "text/plain": [
       "0    0\n",
       "1    0\n",
       "2    0\n",
       "3    0\n",
       "4    1\n",
       "5    0\n",
       "6    0\n",
       "7    0\n",
       "8    1\n",
       "9    0\n",
       "Name: fraud, dtype: int64"
      ]
     },
     "execution_count": 32,
     "metadata": {},
     "output_type": "execute_result"
    }
   ],
   "source": [
    "y[:10]"
   ]
  },
  {
   "cell_type": "code",
   "execution_count": 33,
   "metadata": {
    "colab": {
     "base_uri": "https://localhost:8080/"
    },
    "id": "cZ8uzIr0IMgI",
    "outputId": "1836d541-a622-4fe5-ecbb-ac418e7b0575"
   },
   "outputs": [
    {
     "data": {
      "text/plain": [
       "[[1, 0, 0, 0, 789, 0, 3798, 1541, 2, 4, 25],\n",
       " [1, 1, 1, 1, 860, 0, 48905, 8269, 4, 3, 31],\n",
       " [1, 2, 2, 2, 374, 1, 39963, 6223, 2, 2, 23],\n",
       " [1, 2, 3, 3, 729, 1, 34948, 8832, 6, 3, 44],\n",
       " [1, 3, 4, 3, 716, 2, 46984, 8804, 1, 2, 30],\n",
       " [1, 0, 5, 4, 160, 0, 37298, 2445, 2, 4, 48],\n",
       " [0, 2, 6, 5, 626, 1, 33981, 3715, 4, 1, 21],\n",
       " [0, 4, 7, 6, 318, 0, 5071, 541, 1, 3, 50],\n",
       " [0, 5, 8, 7, 715, 0, 22943, 8690, 5, 2, 20],\n",
       " [0, 6, 9, 2, 887, 2, 27104, 6680, 2, 3, 39]]"
      ]
     },
     "execution_count": 33,
     "metadata": {},
     "output_type": "execute_result"
    }
   ],
   "source": [
    "values1 = data.iloc[:10].values.tolist()\n",
    "values1"
   ]
  },
  {
   "cell_type": "code",
   "execution_count": 34,
   "metadata": {
    "colab": {
     "base_uri": "https://localhost:8080/"
    },
    "id": "LLIL2QFGIYxF",
    "outputId": "b99a7b50-ae21-4e12-d952-ba6a6f9a06d8"
   },
   "outputs": [
    {
     "name": "stdout",
     "output_type": "stream",
     "text": [
      "0 0\n",
      "0 0\n",
      "0 0\n",
      "0 1\n",
      "1 0\n",
      "0 0\n",
      "0 0\n",
      "0 1\n",
      "1 0\n",
      "1 0\n"
     ]
    }
   ],
   "source": [
    "m = 0\n",
    "for i in values1:\n",
    "  m += 1\n",
    "  new_df = pd.DataFrame(data=[i], columns=['gender', 'location', 'employer', 'relationship', 'patient_suffix',\n",
    "       'cause', 'Fee Charged', 'membership_period', 'number_of_claims',\n",
    "       'number_of_dependants', 'patient_age'])\n",
    "\n",
    "  # Standardize the new data using the same scaler used for the original data\n",
    "  new_data_scaled = st_x.transform(new_df)\n",
    "\n",
    "  # Apply PCA to the standardized new data\n",
    "  new_data_pca = pca.transform(new_data_scaled)\n",
    "  new_pred = RFC.predict(new_data_pca)\n",
    "  print(new_pred[0], y[m])\n"
   ]
  },
  {
   "cell_type": "code",
   "execution_count": null,
   "metadata": {
    "id": "xZvBTuySIxqP"
   },
   "outputs": [],
   "source": []
  },
  {
   "cell_type": "code",
   "execution_count": null,
   "metadata": {},
   "outputs": [],
   "source": []
  },
  {
   "cell_type": "code",
   "execution_count": null,
   "metadata": {},
   "outputs": [],
   "source": []
  },
  {
   "cell_type": "code",
   "execution_count": null,
   "metadata": {},
   "outputs": [],
   "source": []
  }
 ],
 "metadata": {
  "colab": {
   "provenance": []
  },
  "kernelspec": {
   "display_name": "Python 3 (ipykernel)",
   "language": "python",
   "name": "python3"
  },
  "language_info": {
   "codemirror_mode": {
    "name": "ipython",
    "version": 3
   },
   "file_extension": ".py",
   "mimetype": "text/x-python",
   "name": "python",
   "nbconvert_exporter": "python",
   "pygments_lexer": "ipython3",
   "version": "3.9.6"
  }
 },
 "nbformat": 4,
 "nbformat_minor": 1
}
